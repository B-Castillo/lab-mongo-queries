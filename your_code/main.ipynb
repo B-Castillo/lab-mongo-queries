{
 "cells": [
  {
   "cell_type": "markdown",
   "metadata": {},
   "source": [
    "# Advanced Querying Mongo"
   ]
  },
  {
   "cell_type": "markdown",
   "metadata": {},
   "source": [
    "Importing libraries and setting up connection"
   ]
  },
  {
   "cell_type": "code",
   "execution_count": 1,
   "metadata": {},
   "outputs": [],
   "source": [
    "# from pymongo import MongoClient\n",
    "# client = MongoClient(\"\")\n",
    "import pymongo \n",
    "import pandas as pd\n",
    "import numpy as np\n",
    "datos = pymongo.MongoClient()"
   ]
  },
  {
   "cell_type": "code",
   "execution_count": 2,
   "metadata": {},
   "outputs": [],
   "source": [
    "pd.options.display.max_columns = None"
   ]
  },
  {
   "cell_type": "code",
   "execution_count": 3,
   "metadata": {},
   "outputs": [
    {
     "data": {
      "text/plain": [
       "['Powerlifting', 'admin', 'alojamientos', 'companies', 'config', 'local']"
      ]
     },
     "execution_count": 3,
     "metadata": {},
     "output_type": "execute_result"
    }
   ],
   "source": [
    "datos.list_database_names()"
   ]
  },
  {
   "cell_type": "code",
   "execution_count": 4,
   "metadata": {},
   "outputs": [],
   "source": [
    "mydb = datos[\"companies\"]\n",
    "datos = mydb.datos"
   ]
  },
  {
   "cell_type": "code",
   "execution_count": 5,
   "metadata": {},
   "outputs": [],
   "source": [
    "df = pd.read_json(\"../companies.json\", lines=True)"
   ]
  },
  {
   "cell_type": "code",
   "execution_count": 6,
   "metadata": {
    "scrolled": true
   },
   "outputs": [
    {
     "data": {
      "text/html": [
       "<div>\n",
       "<style scoped>\n",
       "    .dataframe tbody tr th:only-of-type {\n",
       "        vertical-align: middle;\n",
       "    }\n",
       "\n",
       "    .dataframe tbody tr th {\n",
       "        vertical-align: top;\n",
       "    }\n",
       "\n",
       "    .dataframe thead th {\n",
       "        text-align: right;\n",
       "    }\n",
       "</style>\n",
       "<table border=\"1\" class=\"dataframe\">\n",
       "  <thead>\n",
       "    <tr style=\"text-align: right;\">\n",
       "      <th></th>\n",
       "      <th>_id</th>\n",
       "      <th>name</th>\n",
       "      <th>permalink</th>\n",
       "      <th>crunchbase_url</th>\n",
       "      <th>homepage_url</th>\n",
       "      <th>blog_url</th>\n",
       "      <th>blog_feed_url</th>\n",
       "      <th>twitter_username</th>\n",
       "      <th>category_code</th>\n",
       "      <th>number_of_employees</th>\n",
       "      <th>founded_year</th>\n",
       "      <th>founded_month</th>\n",
       "      <th>founded_day</th>\n",
       "      <th>deadpooled_year</th>\n",
       "      <th>tag_list</th>\n",
       "      <th>alias_list</th>\n",
       "      <th>email_address</th>\n",
       "      <th>phone_number</th>\n",
       "      <th>description</th>\n",
       "      <th>created_at</th>\n",
       "      <th>updated_at</th>\n",
       "      <th>overview</th>\n",
       "      <th>image</th>\n",
       "      <th>products</th>\n",
       "      <th>relationships</th>\n",
       "      <th>competitions</th>\n",
       "      <th>providerships</th>\n",
       "      <th>total_money_raised</th>\n",
       "      <th>funding_rounds</th>\n",
       "      <th>investments</th>\n",
       "      <th>acquisition</th>\n",
       "      <th>acquisitions</th>\n",
       "      <th>offices</th>\n",
       "      <th>milestones</th>\n",
       "      <th>video_embeds</th>\n",
       "      <th>screenshots</th>\n",
       "      <th>external_links</th>\n",
       "      <th>partners</th>\n",
       "      <th>deadpooled_month</th>\n",
       "      <th>deadpooled_day</th>\n",
       "      <th>deadpooled_url</th>\n",
       "      <th>ipo</th>\n",
       "    </tr>\n",
       "  </thead>\n",
       "  <tbody>\n",
       "    <tr>\n",
       "      <th>0</th>\n",
       "      <td>{'$oid': '52cdef7c4bab8bd675297d8a'}</td>\n",
       "      <td>Wetpaint</td>\n",
       "      <td>abc2</td>\n",
       "      <td>http://www.crunchbase.com/company/wetpaint</td>\n",
       "      <td>http://wetpaint-inc.com</td>\n",
       "      <td>http://digitalquarters.net/</td>\n",
       "      <td>http://digitalquarters.net/feed/</td>\n",
       "      <td>BachelrWetpaint</td>\n",
       "      <td>web</td>\n",
       "      <td>47.0</td>\n",
       "      <td>2005.0</td>\n",
       "      <td>10.0</td>\n",
       "      <td>17.0</td>\n",
       "      <td>1.0</td>\n",
       "      <td>wiki, seattle, elowitz, media-industry, media-...</td>\n",
       "      <td></td>\n",
       "      <td>info@wetpaint.com</td>\n",
       "      <td>206.859.6300</td>\n",
       "      <td>Technology Platform Company</td>\n",
       "      <td>{'$date': 1180075887000}</td>\n",
       "      <td>2013-12-08 07:15:44+00:00</td>\n",
       "      <td>&lt;p&gt;Wetpaint is a technology platform company t...</td>\n",
       "      <td>{'available_sizes': [[[150, 75], 'assets/image...</td>\n",
       "      <td>[{'name': 'Wikison Wetpaint', 'permalink': 'we...</td>\n",
       "      <td>[{'is_past': False, 'title': 'Co-Founder and V...</td>\n",
       "      <td>[{'competitor': {'name': 'Wikia', 'permalink':...</td>\n",
       "      <td>[]</td>\n",
       "      <td>$39.8M</td>\n",
       "      <td>[{'id': 888, 'round_code': 'a', 'source_url': ...</td>\n",
       "      <td>[]</td>\n",
       "      <td>{'price_amount': 30000000, 'price_currency_cod...</td>\n",
       "      <td>[]</td>\n",
       "      <td>[{'description': '', 'address1': '710 - 2nd Av...</td>\n",
       "      <td>[{'id': 5869, 'description': 'Wetpaint named i...</td>\n",
       "      <td>[]</td>\n",
       "      <td>[{'available_sizes': [[[150, 86], 'assets/imag...</td>\n",
       "      <td>[{'external_url': 'http://www.geekwire.com/201...</td>\n",
       "      <td>[]</td>\n",
       "      <td>NaN</td>\n",
       "      <td>NaN</td>\n",
       "      <td>NaN</td>\n",
       "      <td>NaN</td>\n",
       "    </tr>\n",
       "  </tbody>\n",
       "</table>\n",
       "</div>"
      ],
      "text/plain": [
       "                                    _id      name permalink  \\\n",
       "0  {'$oid': '52cdef7c4bab8bd675297d8a'}  Wetpaint      abc2   \n",
       "\n",
       "                               crunchbase_url             homepage_url  \\\n",
       "0  http://www.crunchbase.com/company/wetpaint  http://wetpaint-inc.com   \n",
       "\n",
       "                      blog_url                     blog_feed_url  \\\n",
       "0  http://digitalquarters.net/  http://digitalquarters.net/feed/   \n",
       "\n",
       "  twitter_username category_code  number_of_employees  founded_year  \\\n",
       "0  BachelrWetpaint           web                 47.0        2005.0   \n",
       "\n",
       "   founded_month  founded_day  deadpooled_year  \\\n",
       "0           10.0         17.0              1.0   \n",
       "\n",
       "                                            tag_list alias_list  \\\n",
       "0  wiki, seattle, elowitz, media-industry, media-...              \n",
       "\n",
       "       email_address  phone_number                  description  \\\n",
       "0  info@wetpaint.com  206.859.6300  Technology Platform Company   \n",
       "\n",
       "                 created_at                updated_at  \\\n",
       "0  {'$date': 1180075887000} 2013-12-08 07:15:44+00:00   \n",
       "\n",
       "                                            overview  \\\n",
       "0  <p>Wetpaint is a technology platform company t...   \n",
       "\n",
       "                                               image  \\\n",
       "0  {'available_sizes': [[[150, 75], 'assets/image...   \n",
       "\n",
       "                                            products  \\\n",
       "0  [{'name': 'Wikison Wetpaint', 'permalink': 'we...   \n",
       "\n",
       "                                       relationships  \\\n",
       "0  [{'is_past': False, 'title': 'Co-Founder and V...   \n",
       "\n",
       "                                        competitions providerships  \\\n",
       "0  [{'competitor': {'name': 'Wikia', 'permalink':...            []   \n",
       "\n",
       "  total_money_raised                                     funding_rounds  \\\n",
       "0             $39.8M  [{'id': 888, 'round_code': 'a', 'source_url': ...   \n",
       "\n",
       "  investments                                        acquisition acquisitions  \\\n",
       "0          []  {'price_amount': 30000000, 'price_currency_cod...           []   \n",
       "\n",
       "                                             offices  \\\n",
       "0  [{'description': '', 'address1': '710 - 2nd Av...   \n",
       "\n",
       "                                          milestones video_embeds  \\\n",
       "0  [{'id': 5869, 'description': 'Wetpaint named i...           []   \n",
       "\n",
       "                                         screenshots  \\\n",
       "0  [{'available_sizes': [[[150, 86], 'assets/imag...   \n",
       "\n",
       "                                      external_links partners  \\\n",
       "0  [{'external_url': 'http://www.geekwire.com/201...       []   \n",
       "\n",
       "   deadpooled_month  deadpooled_day deadpooled_url  ipo  \n",
       "0               NaN             NaN            NaN  NaN  "
      ]
     },
     "execution_count": 6,
     "metadata": {},
     "output_type": "execute_result"
    }
   ],
   "source": [
    "df.head(1)"
   ]
  },
  {
   "cell_type": "code",
   "execution_count": 7,
   "metadata": {
    "scrolled": true
   },
   "outputs": [
    {
     "data": {
      "text/plain": [
       "Index(['_id', 'name', 'permalink', 'crunchbase_url', 'homepage_url',\n",
       "       'blog_url', 'blog_feed_url', 'twitter_username', 'category_code',\n",
       "       'number_of_employees', 'founded_year', 'founded_month', 'founded_day',\n",
       "       'deadpooled_year', 'tag_list', 'alias_list', 'email_address',\n",
       "       'phone_number', 'description', 'created_at', 'updated_at', 'overview',\n",
       "       'image', 'products', 'relationships', 'competitions', 'providerships',\n",
       "       'total_money_raised', 'funding_rounds', 'investments', 'acquisition',\n",
       "       'acquisitions', 'offices', 'milestones', 'video_embeds', 'screenshots',\n",
       "       'external_links', 'partners', 'deadpooled_month', 'deadpooled_day',\n",
       "       'deadpooled_url', 'ipo'],\n",
       "      dtype='object')"
      ]
     },
     "execution_count": 7,
     "metadata": {},
     "output_type": "execute_result"
    }
   ],
   "source": [
    "df.columns"
   ]
  },
  {
   "cell_type": "markdown",
   "metadata": {},
   "source": [
    "### 1. All the companies whose name match 'Babelgum'. Retrieve only their `name` field."
   ]
  },
  {
   "cell_type": "code",
   "execution_count": 8,
   "metadata": {},
   "outputs": [
    {
     "data": {
      "text/html": [
       "<div>\n",
       "<style scoped>\n",
       "    .dataframe tbody tr th:only-of-type {\n",
       "        vertical-align: middle;\n",
       "    }\n",
       "\n",
       "    .dataframe tbody tr th {\n",
       "        vertical-align: top;\n",
       "    }\n",
       "\n",
       "    .dataframe thead th {\n",
       "        text-align: right;\n",
       "    }\n",
       "</style>\n",
       "<table border=\"1\" class=\"dataframe\">\n",
       "  <thead>\n",
       "    <tr style=\"text-align: right;\">\n",
       "      <th></th>\n",
       "      <th>_id</th>\n",
       "      <th>name</th>\n",
       "      <th>permalink</th>\n",
       "      <th>crunchbase_url</th>\n",
       "      <th>homepage_url</th>\n",
       "      <th>blog_url</th>\n",
       "      <th>blog_feed_url</th>\n",
       "      <th>twitter_username</th>\n",
       "      <th>category_code</th>\n",
       "      <th>number_of_employees</th>\n",
       "      <th>founded_year</th>\n",
       "      <th>founded_month</th>\n",
       "      <th>founded_day</th>\n",
       "      <th>deadpooled_year</th>\n",
       "      <th>deadpooled_month</th>\n",
       "      <th>deadpooled_day</th>\n",
       "      <th>deadpooled_url</th>\n",
       "      <th>tag_list</th>\n",
       "      <th>alias_list</th>\n",
       "      <th>email_address</th>\n",
       "      <th>phone_number</th>\n",
       "      <th>description</th>\n",
       "      <th>created_at</th>\n",
       "      <th>updated_at</th>\n",
       "      <th>overview</th>\n",
       "      <th>image</th>\n",
       "      <th>products</th>\n",
       "      <th>relationships</th>\n",
       "      <th>competitions</th>\n",
       "      <th>providerships</th>\n",
       "      <th>total_money_raised</th>\n",
       "      <th>funding_rounds</th>\n",
       "      <th>investments</th>\n",
       "      <th>acquisition</th>\n",
       "      <th>acquisitions</th>\n",
       "      <th>offices</th>\n",
       "      <th>milestones</th>\n",
       "      <th>ipo</th>\n",
       "      <th>video_embeds</th>\n",
       "      <th>screenshots</th>\n",
       "      <th>external_links</th>\n",
       "      <th>partners</th>\n",
       "    </tr>\n",
       "  </thead>\n",
       "  <tbody>\n",
       "    <tr>\n",
       "      <th>0</th>\n",
       "      <td>52cdef7c4bab8bd675297da0</td>\n",
       "      <td>Babelgum</td>\n",
       "      <td>babelgum</td>\n",
       "      <td>http://www.crunchbase.com/company/babelgum</td>\n",
       "      <td>http://babelgum.com</td>\n",
       "      <td>http://babelgum.com/blog</td>\n",
       "      <td>http://feeds.feedburner.com/Babelgum</td>\n",
       "      <td>Babelgum</td>\n",
       "      <td>games_video</td>\n",
       "      <td>None</td>\n",
       "      <td>2007</td>\n",
       "      <td>3</td>\n",
       "      <td>1</td>\n",
       "      <td>2013</td>\n",
       "      <td>1</td>\n",
       "      <td>9</td>\n",
       "      <td></td>\n",
       "      <td>iptv, web2ireland</td>\n",
       "      <td></td>\n",
       "      <td>info@babelgum.com</td>\n",
       "      <td></td>\n",
       "      <td></td>\n",
       "      <td>Sat Jun 09 08:15:21 UTC 2007</td>\n",
       "      <td>Wed Oct 16 06:30:25 UTC 2013</td>\n",
       "      <td>&lt;p&gt;Babelgum is an integrated web and mobile vi...</td>\n",
       "      <td>{'available_sizes': [[[135, 102], 'assets/imag...</td>\n",
       "      <td>[{'name': 'Babelgum', 'permalink': 'babelgum'}]</td>\n",
       "      <td>[{'is_past': False, 'title': 'CEO', 'person': ...</td>\n",
       "      <td>[{'competitor': {'name': 'Joost', 'permalink':...</td>\n",
       "      <td>[]</td>\n",
       "      <td>$13.2M</td>\n",
       "      <td>[{'id': 17, 'round_code': 'a', 'source_url': '...</td>\n",
       "      <td>[]</td>\n",
       "      <td>None</td>\n",
       "      <td>[]</td>\n",
       "      <td>[{'description': '', 'address1': '', 'address2...</td>\n",
       "      <td>[]</td>\n",
       "      <td>None</td>\n",
       "      <td>[]</td>\n",
       "      <td>[]</td>\n",
       "      <td>[]</td>\n",
       "      <td>[]</td>\n",
       "    </tr>\n",
       "  </tbody>\n",
       "</table>\n",
       "</div>"
      ],
      "text/plain": [
       "                        _id      name permalink  \\\n",
       "0  52cdef7c4bab8bd675297da0  Babelgum  babelgum   \n",
       "\n",
       "                               crunchbase_url         homepage_url  \\\n",
       "0  http://www.crunchbase.com/company/babelgum  http://babelgum.com   \n",
       "\n",
       "                   blog_url                         blog_feed_url  \\\n",
       "0  http://babelgum.com/blog  http://feeds.feedburner.com/Babelgum   \n",
       "\n",
       "  twitter_username category_code number_of_employees  founded_year  \\\n",
       "0         Babelgum   games_video                None          2007   \n",
       "\n",
       "   founded_month  founded_day  deadpooled_year  deadpooled_month  \\\n",
       "0              3            1             2013                 1   \n",
       "\n",
       "   deadpooled_day deadpooled_url           tag_list alias_list  \\\n",
       "0               9                 iptv, web2ireland              \n",
       "\n",
       "       email_address phone_number description                    created_at  \\\n",
       "0  info@babelgum.com                           Sat Jun 09 08:15:21 UTC 2007   \n",
       "\n",
       "                     updated_at  \\\n",
       "0  Wed Oct 16 06:30:25 UTC 2013   \n",
       "\n",
       "                                            overview  \\\n",
       "0  <p>Babelgum is an integrated web and mobile vi...   \n",
       "\n",
       "                                               image  \\\n",
       "0  {'available_sizes': [[[135, 102], 'assets/imag...   \n",
       "\n",
       "                                          products  \\\n",
       "0  [{'name': 'Babelgum', 'permalink': 'babelgum'}]   \n",
       "\n",
       "                                       relationships  \\\n",
       "0  [{'is_past': False, 'title': 'CEO', 'person': ...   \n",
       "\n",
       "                                        competitions providerships  \\\n",
       "0  [{'competitor': {'name': 'Joost', 'permalink':...            []   \n",
       "\n",
       "  total_money_raised                                     funding_rounds  \\\n",
       "0             $13.2M  [{'id': 17, 'round_code': 'a', 'source_url': '...   \n",
       "\n",
       "  investments acquisition acquisitions  \\\n",
       "0          []        None           []   \n",
       "\n",
       "                                             offices milestones   ipo  \\\n",
       "0  [{'description': '', 'address1': '', 'address2...         []  None   \n",
       "\n",
       "  video_embeds screenshots external_links partners  \n",
       "0           []          []             []       []  "
      ]
     },
     "execution_count": 8,
     "metadata": {},
     "output_type": "execute_result"
    }
   ],
   "source": [
    "# Your Code\n",
    "ej_1 = pd.DataFrame(list(datos.find({\"name\":\"Babelgum\"})))\n",
    "ej_1"
   ]
  },
  {
   "cell_type": "markdown",
   "metadata": {},
   "source": [
    "### 2. All the companies that have more than 5000 employees. Limit the search to 20 companies and sort them by **number of employees**."
   ]
  },
  {
   "cell_type": "code",
   "execution_count": 9,
   "metadata": {},
   "outputs": [
    {
     "data": {
      "text/plain": [
       "array(['Siemens', 'IBM', 'Toyota', 'PayPal',\n",
       "       'Nippon Telegraph and Telephone Corporation',\n",
       "       'Samsung Electronics', 'Accenture', 'Tata Consultancy Services',\n",
       "       'Flextronics International', 'Safeway', 'Sony', 'LG', 'Ford',\n",
       "       'Boeing', 'Digital Equipment Corporation', 'Nokia',\n",
       "       'MItsubishi Electric', 'Comcast', 'Bertelsmann'], dtype=object)"
      ]
     },
     "execution_count": 9,
     "metadata": {},
     "output_type": "execute_result"
    }
   ],
   "source": [
    "# Your Code\n",
    "ej_2 = pd.DataFrame(list(datos.find({\"number_of_employees\":{\"$gt\": 5000}}).sort(\"number_of_employees\", -1)[:20]))\n",
    "ej_2.name.unique()"
   ]
  },
  {
   "cell_type": "markdown",
   "metadata": {},
   "source": [
    "### 3. All the companies founded between 2000 and 2005, both years included. Retrieve only the `name` and `founded_year` fields."
   ]
  },
  {
   "cell_type": "code",
   "execution_count": 10,
   "metadata": {},
   "outputs": [
    {
     "data": {
      "text/html": [
       "<div>\n",
       "<style scoped>\n",
       "    .dataframe tbody tr th:only-of-type {\n",
       "        vertical-align: middle;\n",
       "    }\n",
       "\n",
       "    .dataframe tbody tr th {\n",
       "        vertical-align: top;\n",
       "    }\n",
       "\n",
       "    .dataframe thead th {\n",
       "        text-align: right;\n",
       "    }\n",
       "</style>\n",
       "<table border=\"1\" class=\"dataframe\">\n",
       "  <thead>\n",
       "    <tr style=\"text-align: right;\">\n",
       "      <th></th>\n",
       "      <th>name</th>\n",
       "      <th>founded_year</th>\n",
       "    </tr>\n",
       "  </thead>\n",
       "  <tbody>\n",
       "    <tr>\n",
       "      <th>0</th>\n",
       "      <td>Wetpaint</td>\n",
       "      <td>2005</td>\n",
       "    </tr>\n",
       "    <tr>\n",
       "      <th>1</th>\n",
       "      <td>Zoho</td>\n",
       "      <td>2005</td>\n",
       "    </tr>\n",
       "    <tr>\n",
       "      <th>2</th>\n",
       "      <td>Digg</td>\n",
       "      <td>2004</td>\n",
       "    </tr>\n",
       "    <tr>\n",
       "      <th>3</th>\n",
       "      <td>Facebook</td>\n",
       "      <td>2004</td>\n",
       "    </tr>\n",
       "    <tr>\n",
       "      <th>4</th>\n",
       "      <td>Omnidrive</td>\n",
       "      <td>2005</td>\n",
       "    </tr>\n",
       "  </tbody>\n",
       "</table>\n",
       "</div>"
      ],
      "text/plain": [
       "        name  founded_year\n",
       "0   Wetpaint          2005\n",
       "1       Zoho          2005\n",
       "2       Digg          2004\n",
       "3   Facebook          2004\n",
       "4  Omnidrive          2005"
      ]
     },
     "execution_count": 10,
     "metadata": {},
     "output_type": "execute_result"
    }
   ],
   "source": [
    "# Your Code\n",
    "cond1 = {\"founded_year\":{\"$gte\": 2000}}\n",
    "cond2 = {\"founded_year\":{\"$lte\": 2005}}\n",
    "ej_3 = pd.DataFrame(list(datos.find({\"$and\":[cond1, cond2]}, {\"name\":1,\"founded_year\":1,\"_id\":0})))\n",
    "ej_3.head()"
   ]
  },
  {
   "cell_type": "markdown",
   "metadata": {},
   "source": [
    "### 4. All the companies that had a Valuation Amount of more than 100.000.000 and have been founded before 2010. Retrieve only the `name` and `ipo` fields."
   ]
  },
  {
   "cell_type": "code",
   "execution_count": 11,
   "metadata": {},
   "outputs": [
    {
     "data": {
      "text/html": [
       "<div>\n",
       "<style scoped>\n",
       "    .dataframe tbody tr th:only-of-type {\n",
       "        vertical-align: middle;\n",
       "    }\n",
       "\n",
       "    .dataframe tbody tr th {\n",
       "        vertical-align: top;\n",
       "    }\n",
       "\n",
       "    .dataframe thead th {\n",
       "        text-align: right;\n",
       "    }\n",
       "</style>\n",
       "<table border=\"1\" class=\"dataframe\">\n",
       "  <thead>\n",
       "    <tr style=\"text-align: right;\">\n",
       "      <th></th>\n",
       "      <th>name</th>\n",
       "      <th>ipo</th>\n",
       "    </tr>\n",
       "  </thead>\n",
       "  <tbody>\n",
       "    <tr>\n",
       "      <th>0</th>\n",
       "      <td>Facebook</td>\n",
       "      <td>{'valuation_amount': 104000000000, 'valuation_...</td>\n",
       "    </tr>\n",
       "    <tr>\n",
       "      <th>1</th>\n",
       "      <td>Twitter</td>\n",
       "      <td>{'valuation_amount': 18100000000, 'valuation_c...</td>\n",
       "    </tr>\n",
       "    <tr>\n",
       "      <th>2</th>\n",
       "      <td>Yelp</td>\n",
       "      <td>{'valuation_amount': 1300000000, 'valuation_cu...</td>\n",
       "    </tr>\n",
       "    <tr>\n",
       "      <th>3</th>\n",
       "      <td>LinkedIn</td>\n",
       "      <td>{'valuation_amount': 9310000000, 'valuation_cu...</td>\n",
       "    </tr>\n",
       "    <tr>\n",
       "      <th>4</th>\n",
       "      <td>Amazon</td>\n",
       "      <td>{'valuation_amount': 100000000000, 'valuation_...</td>\n",
       "    </tr>\n",
       "  </tbody>\n",
       "</table>\n",
       "</div>"
      ],
      "text/plain": [
       "       name                                                ipo\n",
       "0  Facebook  {'valuation_amount': 104000000000, 'valuation_...\n",
       "1   Twitter  {'valuation_amount': 18100000000, 'valuation_c...\n",
       "2      Yelp  {'valuation_amount': 1300000000, 'valuation_cu...\n",
       "3  LinkedIn  {'valuation_amount': 9310000000, 'valuation_cu...\n",
       "4    Amazon  {'valuation_amount': 100000000000, 'valuation_..."
      ]
     },
     "execution_count": 11,
     "metadata": {},
     "output_type": "execute_result"
    }
   ],
   "source": [
    "# Your Code\n",
    "cond1 = {\"founded_year\":{\"$lt\": 2010}}\n",
    "cond2 = {\"ipo.valuation_amount\":{\"$gt\": 100000000}}\n",
    "ej_4 = pd.DataFrame(list(datos.find({\"$and\":[cond1, cond2]}, {\"name\":1,\"ipo\":1,\"_id\":0})))\n",
    "ej_4.head()"
   ]
  },
  {
   "cell_type": "markdown",
   "metadata": {},
   "source": [
    "### 5. All the companies that have less than 1000 employees and have been founded before 2005. Order them by the number of employees and limit the search to 10 companies."
   ]
  },
  {
   "cell_type": "code",
   "execution_count": 12,
   "metadata": {},
   "outputs": [
    {
     "data": {
      "text/html": [
       "<div>\n",
       "<style scoped>\n",
       "    .dataframe tbody tr th:only-of-type {\n",
       "        vertical-align: middle;\n",
       "    }\n",
       "\n",
       "    .dataframe tbody tr th {\n",
       "        vertical-align: top;\n",
       "    }\n",
       "\n",
       "    .dataframe thead th {\n",
       "        text-align: right;\n",
       "    }\n",
       "</style>\n",
       "<table border=\"1\" class=\"dataframe\">\n",
       "  <thead>\n",
       "    <tr style=\"text-align: right;\">\n",
       "      <th></th>\n",
       "      <th>name</th>\n",
       "    </tr>\n",
       "  </thead>\n",
       "  <tbody>\n",
       "    <tr>\n",
       "      <th>0</th>\n",
       "      <td>Infinera Corporation</td>\n",
       "    </tr>\n",
       "    <tr>\n",
       "      <th>1</th>\n",
       "      <td>NorthPoint Communications Group</td>\n",
       "    </tr>\n",
       "    <tr>\n",
       "      <th>2</th>\n",
       "      <td>888 Holdings</td>\n",
       "    </tr>\n",
       "    <tr>\n",
       "      <th>3</th>\n",
       "      <td>Forrester Research</td>\n",
       "    </tr>\n",
       "    <tr>\n",
       "      <th>4</th>\n",
       "      <td>SonicWALL</td>\n",
       "    </tr>\n",
       "    <tr>\n",
       "      <th>5</th>\n",
       "      <td>Webmetrics</td>\n",
       "    </tr>\n",
       "    <tr>\n",
       "      <th>6</th>\n",
       "      <td>Cornerstone OnDemand</td>\n",
       "    </tr>\n",
       "    <tr>\n",
       "      <th>7</th>\n",
       "      <td>MySpace</td>\n",
       "    </tr>\n",
       "    <tr>\n",
       "      <th>8</th>\n",
       "      <td>Mozilla</td>\n",
       "    </tr>\n",
       "    <tr>\n",
       "      <th>9</th>\n",
       "      <td>ZoomInfo</td>\n",
       "    </tr>\n",
       "  </tbody>\n",
       "</table>\n",
       "</div>"
      ],
      "text/plain": [
       "                              name\n",
       "0             Infinera Corporation\n",
       "1  NorthPoint Communications Group\n",
       "2                     888 Holdings\n",
       "3               Forrester Research\n",
       "4                        SonicWALL\n",
       "5                       Webmetrics\n",
       "6             Cornerstone OnDemand\n",
       "7                          MySpace\n",
       "8                          Mozilla\n",
       "9                         ZoomInfo"
      ]
     },
     "execution_count": 12,
     "metadata": {},
     "output_type": "execute_result"
    }
   ],
   "source": [
    "# Your Code\n",
    "cond3 = {\"number_of_employees\":{\"$lt\": 1000}}\n",
    "cond4 = {\"founded_year\":{\"$lt\": 2004}}\n",
    "ej_5 = pd.DataFrame(list(datos.find({\"$and\":[cond3, cond4]}, {\"name\":1,\"_id\":0}).sort(\"number_of_employees\", -1)[:10]))\n",
    "ej_5"
   ]
  },
  {
   "cell_type": "markdown",
   "metadata": {},
   "source": [
    "### 6. All the companies that don't include the `partners` field."
   ]
  },
  {
   "cell_type": "code",
   "execution_count": 13,
   "metadata": {},
   "outputs": [
    {
     "data": {
      "text/html": [
       "<div>\n",
       "<style scoped>\n",
       "    .dataframe tbody tr th:only-of-type {\n",
       "        vertical-align: middle;\n",
       "    }\n",
       "\n",
       "    .dataframe tbody tr th {\n",
       "        vertical-align: top;\n",
       "    }\n",
       "\n",
       "    .dataframe thead th {\n",
       "        text-align: right;\n",
       "    }\n",
       "</style>\n",
       "<table border=\"1\" class=\"dataframe\">\n",
       "  <thead>\n",
       "    <tr style=\"text-align: right;\">\n",
       "      <th></th>\n",
       "    </tr>\n",
       "  </thead>\n",
       "  <tbody>\n",
       "  </tbody>\n",
       "</table>\n",
       "</div>"
      ],
      "text/plain": [
       "Empty DataFrame\n",
       "Columns: []\n",
       "Index: []"
      ]
     },
     "execution_count": 13,
     "metadata": {},
     "output_type": "execute_result"
    }
   ],
   "source": [
    "# Your Code\n",
    "ej_6 = pd.DataFrame(list(datos.find({\"partners\": {'$exists': False}}, {\"name\":1,\"_id\":0})))\n",
    "ej_6.head()"
   ]
  },
  {
   "cell_type": "markdown",
   "metadata": {},
   "source": [
    "### 7. All the companies that have a null type of value on the `category_code` field."
   ]
  },
  {
   "cell_type": "code",
   "execution_count": 14,
   "metadata": {},
   "outputs": [
    {
     "data": {
      "text/html": [
       "<div>\n",
       "<style scoped>\n",
       "    .dataframe tbody tr th:only-of-type {\n",
       "        vertical-align: middle;\n",
       "    }\n",
       "\n",
       "    .dataframe tbody tr th {\n",
       "        vertical-align: top;\n",
       "    }\n",
       "\n",
       "    .dataframe thead th {\n",
       "        text-align: right;\n",
       "    }\n",
       "</style>\n",
       "<table border=\"1\" class=\"dataframe\">\n",
       "  <thead>\n",
       "    <tr style=\"text-align: right;\">\n",
       "      <th></th>\n",
       "      <th>name</th>\n",
       "    </tr>\n",
       "  </thead>\n",
       "  <tbody>\n",
       "    <tr>\n",
       "      <th>0</th>\n",
       "      <td>Collective</td>\n",
       "    </tr>\n",
       "    <tr>\n",
       "      <th>1</th>\n",
       "      <td>Snimmer</td>\n",
       "    </tr>\n",
       "    <tr>\n",
       "      <th>2</th>\n",
       "      <td>KoolIM</td>\n",
       "    </tr>\n",
       "    <tr>\n",
       "      <th>3</th>\n",
       "      <td>Level9 Media</td>\n",
       "    </tr>\n",
       "    <tr>\n",
       "      <th>4</th>\n",
       "      <td>VidKing</td>\n",
       "    </tr>\n",
       "  </tbody>\n",
       "</table>\n",
       "</div>"
      ],
      "text/plain": [
       "           name\n",
       "0    Collective\n",
       "1       Snimmer\n",
       "2        KoolIM\n",
       "3  Level9 Media\n",
       "4       VidKing"
      ]
     },
     "execution_count": 14,
     "metadata": {},
     "output_type": "execute_result"
    }
   ],
   "source": [
    "# Your Code\n",
    "ej_7 = pd.DataFrame(list(datos.find({\"category_code\":{\"$type\":\"null\"}}, {\"name\":1,\"_id\":0})))\n",
    "ej_7.head()"
   ]
  },
  {
   "cell_type": "markdown",
   "metadata": {},
   "source": [
    "### 8. All the companies that have at least 100 employees but less than 1000. Retrieve only the `name` and `number of employees` fields."
   ]
  },
  {
   "cell_type": "code",
   "execution_count": 15,
   "metadata": {},
   "outputs": [
    {
     "data": {
      "text/html": [
       "<div>\n",
       "<style scoped>\n",
       "    .dataframe tbody tr th:only-of-type {\n",
       "        vertical-align: middle;\n",
       "    }\n",
       "\n",
       "    .dataframe tbody tr th {\n",
       "        vertical-align: top;\n",
       "    }\n",
       "\n",
       "    .dataframe thead th {\n",
       "        text-align: right;\n",
       "    }\n",
       "</style>\n",
       "<table border=\"1\" class=\"dataframe\">\n",
       "  <thead>\n",
       "    <tr style=\"text-align: right;\">\n",
       "      <th></th>\n",
       "      <th>name</th>\n",
       "      <th>number_of_employees</th>\n",
       "    </tr>\n",
       "  </thead>\n",
       "  <tbody>\n",
       "    <tr>\n",
       "      <th>0</th>\n",
       "      <td>AdventNet</td>\n",
       "      <td>600</td>\n",
       "    </tr>\n",
       "    <tr>\n",
       "      <th>1</th>\n",
       "      <td>AddThis</td>\n",
       "      <td>120</td>\n",
       "    </tr>\n",
       "    <tr>\n",
       "      <th>2</th>\n",
       "      <td>OpenX</td>\n",
       "      <td>305</td>\n",
       "    </tr>\n",
       "    <tr>\n",
       "      <th>3</th>\n",
       "      <td>LifeLock</td>\n",
       "      <td>644</td>\n",
       "    </tr>\n",
       "    <tr>\n",
       "      <th>4</th>\n",
       "      <td>Jajah</td>\n",
       "      <td>110</td>\n",
       "    </tr>\n",
       "  </tbody>\n",
       "</table>\n",
       "</div>"
      ],
      "text/plain": [
       "        name  number_of_employees\n",
       "0  AdventNet                  600\n",
       "1    AddThis                  120\n",
       "2      OpenX                  305\n",
       "3   LifeLock                  644\n",
       "4      Jajah                  110"
      ]
     },
     "execution_count": 15,
     "metadata": {},
     "output_type": "execute_result"
    }
   ],
   "source": [
    "# Your Code\n",
    "cond5 = {\"number_of_employees\":{\"$gte\": 100}}\n",
    "cond6 = {\"number_of_employees\":{\"$lt\": 1000}}\n",
    "ej_8 = pd.DataFrame(list(datos.find({\"$and\":[cond5, cond6]}, {\"name\":1,\"number_of_employees\":1 ,\"_id\":0})))\n",
    "ej_8.head()"
   ]
  },
  {
   "cell_type": "markdown",
   "metadata": {},
   "source": [
    "### 9. Order all the companies by their IPO price in a descending order."
   ]
  },
  {
   "cell_type": "code",
   "execution_count": 16,
   "metadata": {},
   "outputs": [
    {
     "data": {
      "text/html": [
       "<div>\n",
       "<style scoped>\n",
       "    .dataframe tbody tr th:only-of-type {\n",
       "        vertical-align: middle;\n",
       "    }\n",
       "\n",
       "    .dataframe tbody tr th {\n",
       "        vertical-align: top;\n",
       "    }\n",
       "\n",
       "    .dataframe thead th {\n",
       "        text-align: right;\n",
       "    }\n",
       "</style>\n",
       "<table border=\"1\" class=\"dataframe\">\n",
       "  <thead>\n",
       "    <tr style=\"text-align: right;\">\n",
       "      <th></th>\n",
       "      <th>name</th>\n",
       "    </tr>\n",
       "  </thead>\n",
       "  <tbody>\n",
       "    <tr>\n",
       "      <th>0</th>\n",
       "      <td>GREE</td>\n",
       "    </tr>\n",
       "    <tr>\n",
       "      <th>1</th>\n",
       "      <td>Facebook</td>\n",
       "    </tr>\n",
       "    <tr>\n",
       "      <th>2</th>\n",
       "      <td>Amazon</td>\n",
       "    </tr>\n",
       "    <tr>\n",
       "      <th>3</th>\n",
       "      <td>Twitter</td>\n",
       "    </tr>\n",
       "    <tr>\n",
       "      <th>4</th>\n",
       "      <td>Groupon</td>\n",
       "    </tr>\n",
       "  </tbody>\n",
       "</table>\n",
       "</div>"
      ],
      "text/plain": [
       "       name\n",
       "0      GREE\n",
       "1  Facebook\n",
       "2    Amazon\n",
       "3   Twitter\n",
       "4   Groupon"
      ]
     },
     "execution_count": 16,
     "metadata": {},
     "output_type": "execute_result"
    }
   ],
   "source": [
    "# Your Code\n",
    "ej_9 = pd.DataFrame(list(datos.find((),{\"name\":1,\"_id\":0}).sort(\"ipo\", -1)))\n",
    "ej_9.head()"
   ]
  },
  {
   "cell_type": "markdown",
   "metadata": {},
   "source": [
    "### 10. Retrieve the 10 companies with more employees, order by the `number of employees`"
   ]
  },
  {
   "cell_type": "code",
   "execution_count": 17,
   "metadata": {},
   "outputs": [
    {
     "data": {
      "text/html": [
       "<div>\n",
       "<style scoped>\n",
       "    .dataframe tbody tr th:only-of-type {\n",
       "        vertical-align: middle;\n",
       "    }\n",
       "\n",
       "    .dataframe tbody tr th {\n",
       "        vertical-align: top;\n",
       "    }\n",
       "\n",
       "    .dataframe thead th {\n",
       "        text-align: right;\n",
       "    }\n",
       "</style>\n",
       "<table border=\"1\" class=\"dataframe\">\n",
       "  <thead>\n",
       "    <tr style=\"text-align: right;\">\n",
       "      <th></th>\n",
       "      <th>name</th>\n",
       "    </tr>\n",
       "  </thead>\n",
       "  <tbody>\n",
       "    <tr>\n",
       "      <th>0</th>\n",
       "      <td>Siemens</td>\n",
       "    </tr>\n",
       "    <tr>\n",
       "      <th>1</th>\n",
       "      <td>IBM</td>\n",
       "    </tr>\n",
       "    <tr>\n",
       "      <th>2</th>\n",
       "      <td>Toyota</td>\n",
       "    </tr>\n",
       "    <tr>\n",
       "      <th>3</th>\n",
       "      <td>PayPal</td>\n",
       "    </tr>\n",
       "    <tr>\n",
       "      <th>4</th>\n",
       "      <td>Nippon Telegraph and Telephone Corporation</td>\n",
       "    </tr>\n",
       "    <tr>\n",
       "      <th>5</th>\n",
       "      <td>Samsung Electronics</td>\n",
       "    </tr>\n",
       "    <tr>\n",
       "      <th>6</th>\n",
       "      <td>Accenture</td>\n",
       "    </tr>\n",
       "    <tr>\n",
       "      <th>7</th>\n",
       "      <td>Tata Consultancy Services</td>\n",
       "    </tr>\n",
       "    <tr>\n",
       "      <th>8</th>\n",
       "      <td>Flextronics International</td>\n",
       "    </tr>\n",
       "    <tr>\n",
       "      <th>9</th>\n",
       "      <td>Safeway</td>\n",
       "    </tr>\n",
       "  </tbody>\n",
       "</table>\n",
       "</div>"
      ],
      "text/plain": [
       "                                         name\n",
       "0                                     Siemens\n",
       "1                                         IBM\n",
       "2                                      Toyota\n",
       "3                                      PayPal\n",
       "4  Nippon Telegraph and Telephone Corporation\n",
       "5                         Samsung Electronics\n",
       "6                                   Accenture\n",
       "7                   Tata Consultancy Services\n",
       "8                   Flextronics International\n",
       "9                                     Safeway"
      ]
     },
     "execution_count": 17,
     "metadata": {},
     "output_type": "execute_result"
    }
   ],
   "source": [
    "# Your Code\n",
    "ej_10 = pd.DataFrame(list(datos.find((),{\"name\":1,\"_id\":0}).sort(\"number_of_employees\", -1)[:10]))\n",
    "ej_10"
   ]
  },
  {
   "cell_type": "markdown",
   "metadata": {},
   "source": [
    "### 11. All the companies founded on the second semester of the year. Limit your search to 1000 companies."
   ]
  },
  {
   "cell_type": "code",
   "execution_count": 19,
   "metadata": {},
   "outputs": [
    {
     "data": {
      "text/html": [
       "<div>\n",
       "<style scoped>\n",
       "    .dataframe tbody tr th:only-of-type {\n",
       "        vertical-align: middle;\n",
       "    }\n",
       "\n",
       "    .dataframe tbody tr th {\n",
       "        vertical-align: top;\n",
       "    }\n",
       "\n",
       "    .dataframe thead th {\n",
       "        text-align: right;\n",
       "    }\n",
       "</style>\n",
       "<table border=\"1\" class=\"dataframe\">\n",
       "  <thead>\n",
       "    <tr style=\"text-align: right;\">\n",
       "      <th></th>\n",
       "      <th>name</th>\n",
       "    </tr>\n",
       "  </thead>\n",
       "  <tbody>\n",
       "    <tr>\n",
       "      <th>0</th>\n",
       "      <td>Wetpaint</td>\n",
       "    </tr>\n",
       "    <tr>\n",
       "      <th>1</th>\n",
       "      <td>Zoho</td>\n",
       "    </tr>\n",
       "    <tr>\n",
       "      <th>2</th>\n",
       "      <td>Digg</td>\n",
       "    </tr>\n",
       "    <tr>\n",
       "      <th>3</th>\n",
       "      <td>Omnidrive</td>\n",
       "    </tr>\n",
       "    <tr>\n",
       "      <th>4</th>\n",
       "      <td>eBay</td>\n",
       "    </tr>\n",
       "  </tbody>\n",
       "</table>\n",
       "</div>"
      ],
      "text/plain": [
       "        name\n",
       "0   Wetpaint\n",
       "1       Zoho\n",
       "2       Digg\n",
       "3  Omnidrive\n",
       "4       eBay"
      ]
     },
     "execution_count": 19,
     "metadata": {},
     "output_type": "execute_result"
    }
   ],
   "source": [
    "# Your Code\n",
    "ej_11 = pd.DataFrame(list(datos.find(({\"founded_month\":{\"$gt\":6}}),{\"name\":1,\"_id\":0}))[:1000])\n",
    "ej_11.head()"
   ]
  },
  {
   "cell_type": "markdown",
   "metadata": {},
   "source": [
    "### 12. All the companies founded before 2000 that have an acquisition amount of more than 10.000.00"
   ]
  },
  {
   "cell_type": "code",
   "execution_count": 21,
   "metadata": {},
   "outputs": [
    {
     "data": {
      "text/html": [
       "<div>\n",
       "<style scoped>\n",
       "    .dataframe tbody tr th:only-of-type {\n",
       "        vertical-align: middle;\n",
       "    }\n",
       "\n",
       "    .dataframe tbody tr th {\n",
       "        vertical-align: top;\n",
       "    }\n",
       "\n",
       "    .dataframe thead th {\n",
       "        text-align: right;\n",
       "    }\n",
       "</style>\n",
       "<table border=\"1\" class=\"dataframe\">\n",
       "  <thead>\n",
       "    <tr style=\"text-align: right;\">\n",
       "      <th></th>\n",
       "      <th>name</th>\n",
       "    </tr>\n",
       "  </thead>\n",
       "  <tbody>\n",
       "    <tr>\n",
       "      <th>0</th>\n",
       "      <td>Postini</td>\n",
       "    </tr>\n",
       "    <tr>\n",
       "      <th>1</th>\n",
       "      <td>SideStep</td>\n",
       "    </tr>\n",
       "    <tr>\n",
       "      <th>2</th>\n",
       "      <td>Recipezaar</td>\n",
       "    </tr>\n",
       "    <tr>\n",
       "      <th>3</th>\n",
       "      <td>PayPal</td>\n",
       "    </tr>\n",
       "    <tr>\n",
       "      <th>4</th>\n",
       "      <td>Snapfish</td>\n",
       "    </tr>\n",
       "  </tbody>\n",
       "</table>\n",
       "</div>"
      ],
      "text/plain": [
       "         name\n",
       "0     Postini\n",
       "1    SideStep\n",
       "2  Recipezaar\n",
       "3      PayPal\n",
       "4    Snapfish"
      ]
     },
     "execution_count": 21,
     "metadata": {},
     "output_type": "execute_result"
    }
   ],
   "source": [
    "# Your Code\n",
    "cond7 = {\"founded_year\":{\"$lt\": 2000}}\n",
    "cond8 = {\"acquisition.price_amount\":{\"$gt\": 10000000}}\n",
    "ej_12 = pd.DataFrame(list(datos.find({\"$and\":[cond7, cond8]}, {\"name\":1,\"_id\":0})))\n",
    "ej_12.head()"
   ]
  },
  {
   "cell_type": "markdown",
   "metadata": {},
   "source": [
    "### 13. All the companies that have been acquired after 2010, order by the acquisition amount, and retrieve only their `name` and `acquisition` field."
   ]
  },
  {
   "cell_type": "code",
   "execution_count": 22,
   "metadata": {},
   "outputs": [
    {
     "data": {
      "text/html": [
       "<div>\n",
       "<style scoped>\n",
       "    .dataframe tbody tr th:only-of-type {\n",
       "        vertical-align: middle;\n",
       "    }\n",
       "\n",
       "    .dataframe tbody tr th {\n",
       "        vertical-align: top;\n",
       "    }\n",
       "\n",
       "    .dataframe thead th {\n",
       "        text-align: right;\n",
       "    }\n",
       "</style>\n",
       "<table border=\"1\" class=\"dataframe\">\n",
       "  <thead>\n",
       "    <tr style=\"text-align: right;\">\n",
       "      <th></th>\n",
       "      <th>name</th>\n",
       "      <th>acquisition</th>\n",
       "    </tr>\n",
       "  </thead>\n",
       "  <tbody>\n",
       "    <tr>\n",
       "      <th>0</th>\n",
       "      <td>T-Mobile</td>\n",
       "      <td>{'price_amount': 39000000000}</td>\n",
       "    </tr>\n",
       "    <tr>\n",
       "      <th>1</th>\n",
       "      <td>Goodrich Corporation</td>\n",
       "      <td>{'price_amount': 18400000000}</td>\n",
       "    </tr>\n",
       "    <tr>\n",
       "      <th>2</th>\n",
       "      <td>LSI</td>\n",
       "      <td>{'price_amount': 6600000000}</td>\n",
       "    </tr>\n",
       "    <tr>\n",
       "      <th>3</th>\n",
       "      <td>National Semiconductor</td>\n",
       "      <td>{'price_amount': 6500000000}</td>\n",
       "    </tr>\n",
       "    <tr>\n",
       "      <th>4</th>\n",
       "      <td>Ariba</td>\n",
       "      <td>{'price_amount': 4300000000}</td>\n",
       "    </tr>\n",
       "  </tbody>\n",
       "</table>\n",
       "</div>"
      ],
      "text/plain": [
       "                     name                    acquisition\n",
       "0                T-Mobile  {'price_amount': 39000000000}\n",
       "1    Goodrich Corporation  {'price_amount': 18400000000}\n",
       "2                     LSI   {'price_amount': 6600000000}\n",
       "3  National Semiconductor   {'price_amount': 6500000000}\n",
       "4                   Ariba   {'price_amount': 4300000000}"
      ]
     },
     "execution_count": 22,
     "metadata": {},
     "output_type": "execute_result"
    }
   ],
   "source": [
    "# Your Code\n",
    "ej_13 = pd.DataFrame(list(datos.find({\"acquisition.acquired_year\":{\"$gt\":2010}},\n",
    "               {\"name\":1,\"acquisition.price_amount\":1,\"_id\":0}).sort(\"acquisition.price_amount\",-1)))\n",
    "ej_13.head()"
   ]
  },
  {
   "cell_type": "markdown",
   "metadata": {},
   "source": [
    "### 14. Order the companies by their `founded year`, retrieving only their `name` and `founded year`."
   ]
  },
  {
   "cell_type": "code",
   "execution_count": 23,
   "metadata": {},
   "outputs": [
    {
     "data": {
      "text/html": [
       "<div>\n",
       "<style scoped>\n",
       "    .dataframe tbody tr th:only-of-type {\n",
       "        vertical-align: middle;\n",
       "    }\n",
       "\n",
       "    .dataframe tbody tr th {\n",
       "        vertical-align: top;\n",
       "    }\n",
       "\n",
       "    .dataframe thead th {\n",
       "        text-align: right;\n",
       "    }\n",
       "</style>\n",
       "<table border=\"1\" class=\"dataframe\">\n",
       "  <thead>\n",
       "    <tr style=\"text-align: right;\">\n",
       "      <th></th>\n",
       "      <th>name</th>\n",
       "      <th>founded_year</th>\n",
       "    </tr>\n",
       "  </thead>\n",
       "  <tbody>\n",
       "    <tr>\n",
       "      <th>0</th>\n",
       "      <td>Fixya</td>\n",
       "      <td>2013.0</td>\n",
       "    </tr>\n",
       "    <tr>\n",
       "      <th>1</th>\n",
       "      <td>Wamba</td>\n",
       "      <td>2013.0</td>\n",
       "    </tr>\n",
       "    <tr>\n",
       "      <th>2</th>\n",
       "      <td>Advaliant</td>\n",
       "      <td>2013.0</td>\n",
       "    </tr>\n",
       "    <tr>\n",
       "      <th>3</th>\n",
       "      <td>Fluc</td>\n",
       "      <td>2013.0</td>\n",
       "    </tr>\n",
       "    <tr>\n",
       "      <th>4</th>\n",
       "      <td>iBazar</td>\n",
       "      <td>2013.0</td>\n",
       "    </tr>\n",
       "  </tbody>\n",
       "</table>\n",
       "</div>"
      ],
      "text/plain": [
       "        name  founded_year\n",
       "0      Fixya        2013.0\n",
       "1      Wamba        2013.0\n",
       "2  Advaliant        2013.0\n",
       "3       Fluc        2013.0\n",
       "4     iBazar        2013.0"
      ]
     },
     "execution_count": 23,
     "metadata": {},
     "output_type": "execute_result"
    }
   ],
   "source": [
    "# Your Code\n",
    "ej_14 = pd.DataFrame(list(datos.find((),{\"name\":1,\"founded_year\":1,\"_id\":0}).sort(\"founded_year\", -1)))\n",
    "ej_14.head()"
   ]
  },
  {
   "cell_type": "markdown",
   "metadata": {},
   "source": [
    "### 15. All the companies that have been founded on the first seven days of the month, including the seventh. Sort them by their `acquisition price` in a descending order. Limit the search to 10 documents."
   ]
  },
  {
   "cell_type": "code",
   "execution_count": 24,
   "metadata": {},
   "outputs": [
    {
     "data": {
      "text/html": [
       "<div>\n",
       "<style scoped>\n",
       "    .dataframe tbody tr th:only-of-type {\n",
       "        vertical-align: middle;\n",
       "    }\n",
       "\n",
       "    .dataframe tbody tr th {\n",
       "        vertical-align: top;\n",
       "    }\n",
       "\n",
       "    .dataframe thead th {\n",
       "        text-align: right;\n",
       "    }\n",
       "</style>\n",
       "<table border=\"1\" class=\"dataframe\">\n",
       "  <thead>\n",
       "    <tr style=\"text-align: right;\">\n",
       "      <th></th>\n",
       "      <th>name</th>\n",
       "      <th>acquisition</th>\n",
       "    </tr>\n",
       "  </thead>\n",
       "  <tbody>\n",
       "    <tr>\n",
       "      <th>0</th>\n",
       "      <td>Netscape</td>\n",
       "      <td>{'price_amount': 4200000000}</td>\n",
       "    </tr>\n",
       "    <tr>\n",
       "      <th>1</th>\n",
       "      <td>PayPal</td>\n",
       "      <td>{'price_amount': 1500000000}</td>\n",
       "    </tr>\n",
       "    <tr>\n",
       "      <th>2</th>\n",
       "      <td>Zappos</td>\n",
       "      <td>{'price_amount': 1200000000}</td>\n",
       "    </tr>\n",
       "    <tr>\n",
       "      <th>3</th>\n",
       "      <td>Alibaba</td>\n",
       "      <td>{'price_amount': 1000000000}</td>\n",
       "    </tr>\n",
       "    <tr>\n",
       "      <th>4</th>\n",
       "      <td>Postini</td>\n",
       "      <td>{'price_amount': 625000000}</td>\n",
       "    </tr>\n",
       "    <tr>\n",
       "      <th>5</th>\n",
       "      <td>Danger</td>\n",
       "      <td>{'price_amount': 500000000}</td>\n",
       "    </tr>\n",
       "    <tr>\n",
       "      <th>6</th>\n",
       "      <td>Clearwell Systems</td>\n",
       "      <td>{'price_amount': 410000000}</td>\n",
       "    </tr>\n",
       "    <tr>\n",
       "      <th>7</th>\n",
       "      <td>PrimeSense</td>\n",
       "      <td>{'price_amount': 345000000}</td>\n",
       "    </tr>\n",
       "    <tr>\n",
       "      <th>8</th>\n",
       "      <td>Amobee</td>\n",
       "      <td>{'price_amount': 321000000}</td>\n",
       "    </tr>\n",
       "    <tr>\n",
       "      <th>9</th>\n",
       "      <td>BlueLithium</td>\n",
       "      <td>{'price_amount': 300000000}</td>\n",
       "    </tr>\n",
       "  </tbody>\n",
       "</table>\n",
       "</div>"
      ],
      "text/plain": [
       "                name                   acquisition\n",
       "0           Netscape  {'price_amount': 4200000000}\n",
       "1             PayPal  {'price_amount': 1500000000}\n",
       "2             Zappos  {'price_amount': 1200000000}\n",
       "3            Alibaba  {'price_amount': 1000000000}\n",
       "4            Postini   {'price_amount': 625000000}\n",
       "5             Danger   {'price_amount': 500000000}\n",
       "6  Clearwell Systems   {'price_amount': 410000000}\n",
       "7         PrimeSense   {'price_amount': 345000000}\n",
       "8             Amobee   {'price_amount': 321000000}\n",
       "9        BlueLithium   {'price_amount': 300000000}"
      ]
     },
     "execution_count": 24,
     "metadata": {},
     "output_type": "execute_result"
    }
   ],
   "source": [
    "# Your Code\n",
    "ej_15 = pd.DataFrame(list(datos.find({\"founded_day\":{\"$lte\":7}},\n",
    "                        {\"name\":1,\"acquisition.price_amount\":1,\"_id\":0})\n",
    "                          .sort(\"acquisition.price_amount\",-1))[:10])\n",
    "ej_15"
   ]
  },
  {
   "cell_type": "markdown",
   "metadata": {},
   "source": [
    "### 16. All the companies on the 'web' `category` that have more than 4000 employees. Sort them by the amount of employees in ascending order."
   ]
  },
  {
   "cell_type": "code",
   "execution_count": 25,
   "metadata": {},
   "outputs": [
    {
     "data": {
      "text/html": [
       "<div>\n",
       "<style scoped>\n",
       "    .dataframe tbody tr th:only-of-type {\n",
       "        vertical-align: middle;\n",
       "    }\n",
       "\n",
       "    .dataframe tbody tr th {\n",
       "        vertical-align: top;\n",
       "    }\n",
       "\n",
       "    .dataframe thead th {\n",
       "        text-align: right;\n",
       "    }\n",
       "</style>\n",
       "<table border=\"1\" class=\"dataframe\">\n",
       "  <thead>\n",
       "    <tr style=\"text-align: right;\">\n",
       "      <th></th>\n",
       "      <th>name</th>\n",
       "    </tr>\n",
       "  </thead>\n",
       "  <tbody>\n",
       "    <tr>\n",
       "      <th>0</th>\n",
       "      <td>Experian</td>\n",
       "    </tr>\n",
       "    <tr>\n",
       "      <th>1</th>\n",
       "      <td>eBay</td>\n",
       "    </tr>\n",
       "    <tr>\n",
       "      <th>2</th>\n",
       "      <td>Yahoo!</td>\n",
       "    </tr>\n",
       "    <tr>\n",
       "      <th>3</th>\n",
       "      <td>Rakuten</td>\n",
       "    </tr>\n",
       "    <tr>\n",
       "      <th>4</th>\n",
       "      <td>Los Angeles Times Media Group</td>\n",
       "    </tr>\n",
       "  </tbody>\n",
       "</table>\n",
       "</div>"
      ],
      "text/plain": [
       "                            name\n",
       "0                       Experian\n",
       "1                           eBay\n",
       "2                         Yahoo!\n",
       "3                        Rakuten\n",
       "4  Los Angeles Times Media Group"
      ]
     },
     "execution_count": 25,
     "metadata": {},
     "output_type": "execute_result"
    }
   ],
   "source": [
    "# Your Code\n",
    "cond9 = {\"number_of_employees\":{\"$gt\":4000}}\n",
    "cond10 = {\"category_code\":\"web\"}\n",
    "ej_16 = pd.DataFrame(list(datos.find({\"$and\":[cond9,cond10]},{\"name\":1,\"_id\":0}).sort(\"number_of_employees\",-1)))\n",
    "ej_16.head()"
   ]
  },
  {
   "cell_type": "markdown",
   "metadata": {},
   "source": [
    "### 17. All the companies whose acquisition amount is more than 10.000.000, and currency is 'EUR'."
   ]
  },
  {
   "cell_type": "code",
   "execution_count": 26,
   "metadata": {},
   "outputs": [
    {
     "data": {
      "text/html": [
       "<div>\n",
       "<style scoped>\n",
       "    .dataframe tbody tr th:only-of-type {\n",
       "        vertical-align: middle;\n",
       "    }\n",
       "\n",
       "    .dataframe tbody tr th {\n",
       "        vertical-align: top;\n",
       "    }\n",
       "\n",
       "    .dataframe thead th {\n",
       "        text-align: right;\n",
       "    }\n",
       "</style>\n",
       "<table border=\"1\" class=\"dataframe\">\n",
       "  <thead>\n",
       "    <tr style=\"text-align: right;\">\n",
       "      <th></th>\n",
       "      <th>name</th>\n",
       "    </tr>\n",
       "  </thead>\n",
       "  <tbody>\n",
       "    <tr>\n",
       "      <th>0</th>\n",
       "      <td>ZYB</td>\n",
       "    </tr>\n",
       "    <tr>\n",
       "      <th>1</th>\n",
       "      <td>Apertio</td>\n",
       "    </tr>\n",
       "    <tr>\n",
       "      <th>2</th>\n",
       "      <td>Greenfield Online</td>\n",
       "    </tr>\n",
       "    <tr>\n",
       "      <th>3</th>\n",
       "      <td>Webedia</td>\n",
       "    </tr>\n",
       "    <tr>\n",
       "      <th>4</th>\n",
       "      <td>Wayfinder</td>\n",
       "    </tr>\n",
       "    <tr>\n",
       "      <th>5</th>\n",
       "      <td>Tuenti Technologies</td>\n",
       "    </tr>\n",
       "    <tr>\n",
       "      <th>6</th>\n",
       "      <td>BioMed Central</td>\n",
       "    </tr>\n",
       "  </tbody>\n",
       "</table>\n",
       "</div>"
      ],
      "text/plain": [
       "                  name\n",
       "0                  ZYB\n",
       "1              Apertio\n",
       "2    Greenfield Online\n",
       "3              Webedia\n",
       "4            Wayfinder\n",
       "5  Tuenti Technologies\n",
       "6       BioMed Central"
      ]
     },
     "execution_count": 26,
     "metadata": {},
     "output_type": "execute_result"
    }
   ],
   "source": [
    "# Your Code\n",
    "cond11 = {\"acquisition.price_amount\":{\"$gt\":10000000}}\n",
    "cond12 = {\"acquisition.price_currency_code\":\"EUR\"}\n",
    "ej_17 = pd.DataFrame(list(datos.find({\"$and\":[cond11,cond12]},{\"name\":1,\"_id\":0})))\n",
    "ej_17"
   ]
  },
  {
   "cell_type": "markdown",
   "metadata": {},
   "source": [
    "### 18. All the companies that have been acquired on the first trimester of the year. Limit the search to 10 companies, and retrieve only their `name` and `acquisition` fields."
   ]
  },
  {
   "cell_type": "code",
   "execution_count": 27,
   "metadata": {},
   "outputs": [
    {
     "data": {
      "text/html": [
       "<div>\n",
       "<style scoped>\n",
       "    .dataframe tbody tr th:only-of-type {\n",
       "        vertical-align: middle;\n",
       "    }\n",
       "\n",
       "    .dataframe tbody tr th {\n",
       "        vertical-align: top;\n",
       "    }\n",
       "\n",
       "    .dataframe thead th {\n",
       "        text-align: right;\n",
       "    }\n",
       "</style>\n",
       "<table border=\"1\" class=\"dataframe\">\n",
       "  <thead>\n",
       "    <tr style=\"text-align: right;\">\n",
       "      <th></th>\n",
       "      <th>name</th>\n",
       "      <th>acquisition</th>\n",
       "    </tr>\n",
       "  </thead>\n",
       "  <tbody>\n",
       "    <tr>\n",
       "      <th>0</th>\n",
       "      <td>Kyte</td>\n",
       "      <td>{'price_amount': None, 'price_currency_code': ...</td>\n",
       "    </tr>\n",
       "    <tr>\n",
       "      <th>1</th>\n",
       "      <td>NetRatings</td>\n",
       "      <td>{'price_amount': 327000000, 'price_currency_co...</td>\n",
       "    </tr>\n",
       "    <tr>\n",
       "      <th>2</th>\n",
       "      <td>blogTV</td>\n",
       "      <td>{'price_amount': None, 'price_currency_code': ...</td>\n",
       "    </tr>\n",
       "    <tr>\n",
       "      <th>3</th>\n",
       "      <td>Livestream</td>\n",
       "      <td>{'price_amount': None, 'price_currency_code': ...</td>\n",
       "    </tr>\n",
       "    <tr>\n",
       "      <th>4</th>\n",
       "      <td>iContact</td>\n",
       "      <td>{'price_amount': 169000000, 'price_currency_co...</td>\n",
       "    </tr>\n",
       "    <tr>\n",
       "      <th>5</th>\n",
       "      <td>Coghead</td>\n",
       "      <td>{'price_amount': None, 'price_currency_code': ...</td>\n",
       "    </tr>\n",
       "    <tr>\n",
       "      <th>6</th>\n",
       "      <td>Dailymotion</td>\n",
       "      <td>{'price_amount': 168000000, 'price_currency_co...</td>\n",
       "    </tr>\n",
       "    <tr>\n",
       "      <th>7</th>\n",
       "      <td>Netvibes</td>\n",
       "      <td>{'price_amount': None, 'price_currency_code': ...</td>\n",
       "    </tr>\n",
       "    <tr>\n",
       "      <th>8</th>\n",
       "      <td>Flickr</td>\n",
       "      <td>{'price_amount': None, 'price_currency_code': ...</td>\n",
       "    </tr>\n",
       "    <tr>\n",
       "      <th>9</th>\n",
       "      <td>BabyCenter</td>\n",
       "      <td>{'price_amount': None, 'price_currency_code': ...</td>\n",
       "    </tr>\n",
       "  </tbody>\n",
       "</table>\n",
       "</div>"
      ],
      "text/plain": [
       "          name                                        acquisition\n",
       "0         Kyte  {'price_amount': None, 'price_currency_code': ...\n",
       "1   NetRatings  {'price_amount': 327000000, 'price_currency_co...\n",
       "2       blogTV  {'price_amount': None, 'price_currency_code': ...\n",
       "3   Livestream  {'price_amount': None, 'price_currency_code': ...\n",
       "4     iContact  {'price_amount': 169000000, 'price_currency_co...\n",
       "5      Coghead  {'price_amount': None, 'price_currency_code': ...\n",
       "6  Dailymotion  {'price_amount': 168000000, 'price_currency_co...\n",
       "7     Netvibes  {'price_amount': None, 'price_currency_code': ...\n",
       "8       Flickr  {'price_amount': None, 'price_currency_code': ...\n",
       "9   BabyCenter  {'price_amount': None, 'price_currency_code': ..."
      ]
     },
     "execution_count": 27,
     "metadata": {},
     "output_type": "execute_result"
    }
   ],
   "source": [
    "# Your Code\n",
    "ej_18 = pd.DataFrame(list(datos.find(({\"acquisition.acquired_month\":{\"$lte\":3}}),{\"name\":1,\"acquisition\":1,\"_id\":0}))[:10])\n",
    "ej_18"
   ]
  },
  {
   "cell_type": "markdown",
   "metadata": {},
   "source": [
    "# Bonus\n",
    "### 19. All the companies that have been founded between 2000 and 2010, but have not been acquired before 2011."
   ]
  },
  {
   "cell_type": "code",
   "execution_count": null,
   "metadata": {},
   "outputs": [],
   "source": [
    "# Your Code"
   ]
  },
  {
   "cell_type": "markdown",
   "metadata": {},
   "source": [
    "### 20. All the companies that have been 'deadpooled' after the third year."
   ]
  },
  {
   "cell_type": "code",
   "execution_count": null,
   "metadata": {},
   "outputs": [],
   "source": [
    "# Your Code"
   ]
  }
 ],
 "metadata": {
  "kernelspec": {
   "display_name": "iron",
   "language": "python",
   "name": "iron"
  },
  "language_info": {
   "codemirror_mode": {
    "name": "ipython",
    "version": 3
   },
   "file_extension": ".py",
   "mimetype": "text/x-python",
   "name": "python",
   "nbconvert_exporter": "python",
   "pygments_lexer": "ipython3",
   "version": "3.9.13"
  }
 },
 "nbformat": 4,
 "nbformat_minor": 2
}
